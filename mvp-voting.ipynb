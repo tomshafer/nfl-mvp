{
 "cells": [
  {
   "cell_type": "markdown",
   "metadata": {},
   "source": [
    "# Russell Wilson MVP Voting Adversaries\n",
    "\n",
    "T. Shafer, 2020-10-02  \n",
    "https://tshafer.com/blog/2020/10/russell-wilson-mvp\n",
    "\n",
    "I was listening to one of Bill Simmons’s podcasts, and Russell Wilson came up as a topic. Wilson is a superb NFL quarterback, but apparently he has never received a single MVP vote. Setting aside MVP winners, who _has_ received one or more votes over the last several years?"
   ]
  },
  {
   "cell_type": "code",
   "execution_count": null,
   "metadata": {},
   "outputs": [],
   "source": [
    "!which python"
   ]
  },
  {
   "cell_type": "code",
   "execution_count": null,
   "metadata": {},
   "outputs": [],
   "source": [
    "import matplotlib as mpl\n",
    "import matplotlib.pyplot as plt\n",
    "import numpy as np\n",
    "import pandas as pd\n",
    "import seaborn as sns"
   ]
  },
  {
   "cell_type": "markdown",
   "metadata": {},
   "source": [
    "## Data\n",
    "\n",
    "I've collected data from across the web."
   ]
  },
  {
   "cell_type": "code",
   "execution_count": null,
   "metadata": {},
   "outputs": [],
   "source": [
    "df = pd.read_csv(\"nfl-mvp-voting.csv\")\n",
    "df.head()"
   ]
  },
  {
   "cell_type": "markdown",
   "metadata": {},
   "source": [
    "Add a few columns marking whether a player won the MVP in a year, has ever won, and the number of votes received over time."
   ]
  },
  {
   "cell_type": "code",
   "execution_count": null,
   "metadata": {},
   "outputs": [],
   "source": [
    "df.drop(columns=[\"source\", \"accessed\"], inplace=True)\n",
    "\n",
    "df[\"winner\"] = df.groupby(\"year\")[\"votes\"].transform(lambda c: c == c.max()).astype(int)\n",
    "df[\"ever_won\"] = df.groupby(\"player\")[\"winner\"].transform(max)\n",
    "\n",
    "# Cumulative and total votes over time\n",
    "df[\"cmlvotes\"] = df.sort_values([\"year\", \"player\"]).groupby(\"player\")[\"votes\"].cumsum()\n",
    "df[\"totvotes\"] = df.groupby(\"player\")[\"cmlvotes\"].transform(max)\n",
    "\n",
    "# Cumulative and total votes over time for *nonwinning* years\n",
    "df[\"cmlvotes_nonwin\"]=df.sort_values([\"year\", \"player\"]).groupby(\"player\", as_index=False).apply(lambda x: (x[\"votes\"] * (1-x[\"winner\"])).cumsum()).reset_index(level=0,drop=True)\n",
    "df[\"totvotes_nonwin\"]=df.groupby(\"player\")[\"cmlvotes_nonwin\"].transform(max)\n",
    "\n",
    "df.head()"
   ]
  },
  {
   "cell_type": "markdown",
   "metadata": {},
   "source": [
    "## Generate the bar chart"
   ]
  },
  {
   "cell_type": "code",
   "execution_count": null,
   "metadata": {},
   "outputs": [],
   "source": [
    "GOLDEN_SECTION = (1 + np.sqrt(5)) / 2\n",
    "FIGURE_HEIGHT = 6"
   ]
  },
  {
   "cell_type": "code",
   "execution_count": null,
   "metadata": {},
   "outputs": [],
   "source": [
    "plt.rcParams[\"font.size\"] = 16\n",
    "plt.rcParams[\"figure.dpi\"] = 72"
   ]
  },
  {
   "cell_type": "code",
   "execution_count": null,
   "metadata": {},
   "outputs": [],
   "source": [
    "df = df.sort_values([\"totvotes\", \"year\"], ascending=[True, False])"
   ]
  },
  {
   "cell_type": "code",
   "execution_count": null,
   "metadata": {},
   "outputs": [],
   "source": [
    "fig, ax = plt.subplots(figsize=(GOLDEN_SECTION * FIGURE_HEIGHT, FIGURE_HEIGHT))\n",
    "\n",
    "ax.barh(\n",
    "    df.player, \n",
    "    df.cmlvotes, \n",
    "    ec='w', \n",
    "    lw=2, \n",
    "    color=['#d1d0ca' if p.winner else 'b' for _, p in df.iterrows()], \n",
    "    height=0.9,\n",
    ")\n",
    "\n",
    "# Custom font: https://concoursefont.com\n",
    "# [t.set_fontname(\"Concourse T3\") for t in ax.get_xticklabels()]\n",
    "# [t.set_fontname(\"Concourse T3\") for t in ax.get_yticklabels()]\n",
    "\n",
    "ax.set_ylim(-0.9, 16.9)\n",
    "ax.set_xlim(0, 60)\n",
    "\n",
    "ax.xaxis.grid(alpha=0.5, ls=\"--\")\n",
    "ax.set_axisbelow(True)\n",
    "\n",
    "ax.xaxis.set_ticks_position(\"both\")\n",
    "ax.xaxis.set_minor_locator(mpl.ticker.AutoMinorLocator(5))\n",
    "ax.xaxis.set_tick_params(direction=\"in\", which=\"major\", size=6)\n",
    "ax.xaxis.set_tick_params(direction=\"in\", which=\"minor\", size=3)\n",
    "\n",
    "ax.set_xlabel(\"Total MVP Votes\", fontdict={\"fontname\": \"Concourse T3\"})\n",
    "ax.set_title(\"NFL MVP Votes, 2014–2019\", fontdict={\"fontname\": \"Concourse T3\"})\n",
    "\n",
    "fig.tight_layout()\n",
    "plt.savefig(\"mvp-votes.png\", dpi=plt.rcParams[\"figure.dpi\"], facecolor=\"w\", edgecolor=\"w\")\n",
    "plt.savefig(\"mvp-votes@2x.png\", dpi=plt.rcParams[\"figure.dpi\"] * 2, facecolor=\"w\", edgecolor=\"w\");"
   ]
  },
  {
   "cell_type": "markdown",
   "metadata": {},
   "source": [
    "## Table of nonwinning vote counts"
   ]
  },
  {
   "cell_type": "code",
   "execution_count": null,
   "metadata": {},
   "outputs": [],
   "source": [
    "player_nonwin_counts = (\n",
    "    df.loc[df.winner==0]\n",
    "      .groupby(\"player\", as_index=False)\n",
    "      .agg({\"totvotes_nonwin\": max, \"year\": len})\n",
    ")\n",
    "\n",
    "player_nonwin_counts = (\n",
    "    df.loc[:, [\"player\", \"ever_won\"]]\n",
    "      .drop_duplicates()\n",
    "      .merge(player_nonwin_counts, on=\"player\")\n",
    ")\n",
    "\n",
    "player_nonwin_counts.loc[:, [\"totvotes_nonwin\", \"year\"]] = (\n",
    "    player_nonwin_counts.loc[:, [\"totvotes_nonwin\", \"year\"]].astype(int)\n",
    ")\n",
    "\n",
    "player_nonwin_counts.sort_values([\"year\", \"totvotes_nonwin\"], ascending=False)"
   ]
  },
  {
   "cell_type": "code",
   "execution_count": null,
   "metadata": {},
   "outputs": [],
   "source": []
  }
 ],
 "metadata": {
  "kernelspec": {
   "display_name": "Python 3",
   "language": "python",
   "name": "python3"
  },
  "language_info": {
   "codemirror_mode": {
    "name": "ipython",
    "version": 3
   },
   "file_extension": ".py",
   "mimetype": "text/x-python",
   "name": "python",
   "nbconvert_exporter": "python",
   "pygments_lexer": "ipython3",
   "version": "3.7.3"
  }
 },
 "nbformat": 4,
 "nbformat_minor": 4
}
